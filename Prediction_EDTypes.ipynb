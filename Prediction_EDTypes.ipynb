{
 "cells": [
  {
   "cell_type": "code",
   "execution_count": 1,
   "id": "53b3117a-d62a-4e1f-b43e-b3eedb1066b8",
   "metadata": {},
   "outputs": [
    {
     "name": "stdout",
     "output_type": "stream",
     "text": [
      "/home/sreejita/ProjectsPy/GGZ/code_scripts/ED-profiling\n",
      "/home/sreejita/ProjectsPy/GGZ/data/annonymizedDatasets/\n"
     ]
    }
   ],
   "source": [
    "import pandas as pd\n",
    "import numpy as np\n",
    "import sys\n",
    "import seaborn as sns\n",
    "import os.path\n",
    "import time, itertools, re\n",
    "from sklearn.metrics import make_scorer, balanced_accuracy_score\n",
    "import miceforest as mf\n",
    "from sklearn.preprocessing import StandardScaler\n",
    "from sklearn.model_selection import GridSearchCV,StratifiedGroupKFold\n",
    "from sklearn.pipeline import make_pipeline, Pipeline\n",
    "from sklearn.mixture import GaussianMixture\n",
    "from FigPlotting import clusterPlot, plot_dendrogram\n",
    "import warnings\n",
    "warnings.filterwarnings('ignore')\n",
    "import matplotlib.pyplot as plt\n",
    "print(os.getcwd())\n",
    "fileloc_data='/'.join(os.getcwd().split('/')[0:5])+ '/data/annonymizedDatasets/'\n",
    "savetag='pred_lavSQ_MHC'\n",
    "print(fileloc_data)"
   ]
  },
  {
   "cell_type": "code",
   "execution_count": 2,
   "id": "3b5398c9-fda0-4605-8731-079266f80c1f",
   "metadata": {},
   "outputs": [],
   "source": [
    "colsLAV=['Lav-Neg_Waardering', 'Lav-Gebrek_Vertrouwdheid', 'Lav-Alg_Ontevredenheid']\n",
    "colsSQ48=['SQ48-Vijandigheid','SQ48-Agorafobie','SQ48-Angst','SQ48-Depressie', 'SQ48-Cognitieve_Klachten',\n",
    "          'SQ48-Somatische_Klachten', 'SQ48-Sociale_Fobie','SQ48-Vitaliteit_Optimisme', 'SQ48-Werk_Studie']\n",
    "colsMHCSF=['MHCSF-EmotionWB', 'MHCSF-SocialWB', 'MHCSF-PsychWB']\n",
    "cols2consider=['Main-Age','Main-ED_Codes', 'EDEQ-Score']+colsLAV+colsSQ48+colsMHCSF\n",
    "cols2train=['Main-Age']+colsLAV+colsSQ48+colsMHCSF\n",
    "colNames=['Main-Age', 'Main-ED_Codes', 'EDEQ-Score','Lav-Neg_Waardering','Lav-Gebrek_Vertrouwdheid', 'Lav-Alg_Ontevredenheid', \n",
    "'SQ48-Hostility','SQ48-Agorafobie','SQ48-Angst','SQ48-Depressie','SQ48-Cognitieve_Complain',\n",
    "'SQ48-Somatische_Complain', 'SQ48-Sociale_Fobie','SQ48-Vitaliteit_Optimisme','SQ48-Werk_Studie', \n",
    "'MHCSF-EmotionWB', 'MHCSF-SocialWB', 'MHCSF-PsychWB'] \n",
    "colRename_dict=dict(zip(cols2consider, colNames))\n",
    "df_adapted_combo=pd.read_csv(fileloc_data+'maskedDAIsy_MainED_Lav_SQ48_MHCSF_Visit1.tsv', sep='\\t', decimal=',')\n",
    "df_adapted_combo['EDtype'] = df_adapted_combo['EDtype'].astype('category')\n",
    "df_adapted_combo.astype(dict(zip(colsLAV, ['float', 'float','float']))).dtypes\n",
    "df_adapted_combo.astype(dict(zip(colsSQ48,['float', 'float','float','float', 'float','float','float', 'float','float']))).dtypes\n",
    "df_adapted_combo.astype(dict(zip(colsMHCSF, ['float', 'float','float']))).dtypes\n",
    "df_adapted_combo.rename(columns=colRename_dict, inplace=True)\n",
    "adapted_combo_cols=['Main-Age','Lav-Alg_Ontevredenheid', 'Lav-Gebrek_Vertrouwdheid','Lav-Neg_Waardering',\n",
    "    'SQ48-Hostility','SQ48-Agorafobie','SQ48-Angst','SQ48-Depressie','SQ48-Cognitieve_Complain',\n",
    "    'SQ48-Somatische_Complain', 'SQ48-Sociale_Fobie','SQ48-Vitaliteit_Optimisme','SQ48-Werk_Studie', 'MHCSF-EmotionWB', \n",
    "    'MHCSF-SocialWB', 'MHCSF-PsychWB']\n",
    "#df_adapted_combo['ED_Codes'] = df_adapted_combo['EDtype'].cat.codes"
   ]
  },
  {
   "cell_type": "code",
   "execution_count": 4,
   "id": "50bf1935-7195-42b8-afac-cef5c2a086c8",
   "metadata": {},
   "outputs": [],
   "source": [
    "from sklearn.pipeline import make_pipeline\n",
    "from sklearn.ensemble import RandomForestClassifier\n",
    "from sklearn.naive_bayes import GaussianNB\n",
    "from sklearn.neighbors import KNeighborsClassifier\n",
    "from sklearn.discriminant_analysis import (LinearDiscriminantAnalysis,QuadraticDiscriminantAnalysis,)\n",
    "from sklearn.svm import SVC\n",
    "\n",
    "df_train_adapted=df_adapted_combo[adapted_combo_cols].loc[df_adapted_combo['Split']=='Train']\n",
    "YTrain=df_adapted_combo['EDtype'].loc[df_adapted_combo['Split']=='Train'].to_numpy()\n",
    "df_test_adapted=df_adapted_combo[adapted_combo_cols].loc[df_adapted_combo['Split']=='Test']\n",
    "YTest=df_adapted_combo['EDtype'].loc[df_adapted_combo['Split']=='Test'].to_numpy()\n"
   ]
  },
  {
   "cell_type": "code",
   "execution_count": 5,
   "id": "39242a23-b1c3-4481-b250-44592f2f5732",
   "metadata": {},
   "outputs": [
    {
     "data": {
      "text/html": [
       "<div>\n",
       "<style scoped>\n",
       "    .dataframe tbody tr th:only-of-type {\n",
       "        vertical-align: middle;\n",
       "    }\n",
       "\n",
       "    .dataframe tbody tr th {\n",
       "        vertical-align: top;\n",
       "    }\n",
       "\n",
       "    .dataframe thead th {\n",
       "        text-align: right;\n",
       "    }\n",
       "</style>\n",
       "<table border=\"1\" class=\"dataframe\">\n",
       "  <thead>\n",
       "    <tr style=\"text-align: right;\">\n",
       "      <th></th>\n",
       "      <th>n_Trees</th>\n",
       "      <th>Max_Features</th>\n",
       "      <th>Bal. Acc</th>\n",
       "    </tr>\n",
       "  </thead>\n",
       "  <tbody>\n",
       "    <tr>\n",
       "      <th>7</th>\n",
       "      <td>500</td>\n",
       "      <td>7</td>\n",
       "      <td>0.366851</td>\n",
       "    </tr>\n",
       "    <tr>\n",
       "      <th>9</th>\n",
       "      <td>250</td>\n",
       "      <td>11</td>\n",
       "      <td>0.361391</td>\n",
       "    </tr>\n",
       "    <tr>\n",
       "      <th>5</th>\n",
       "      <td>250</td>\n",
       "      <td>7</td>\n",
       "      <td>0.356947</td>\n",
       "    </tr>\n",
       "    <tr>\n",
       "      <th>3</th>\n",
       "      <td>500</td>\n",
       "      <td>5</td>\n",
       "      <td>0.352280</td>\n",
       "    </tr>\n",
       "    <tr>\n",
       "      <th>4</th>\n",
       "      <td>100</td>\n",
       "      <td>7</td>\n",
       "      <td>0.352245</td>\n",
       "    </tr>\n",
       "  </tbody>\n",
       "</table>\n",
       "</div>"
      ],
      "text/plain": [
       "  n_Trees Max_Features  Bal. Acc\n",
       "7     500            7  0.366851\n",
       "9     250           11  0.361391\n",
       "5     250            7  0.356947\n",
       "3     500            5  0.352280\n",
       "4     100            7  0.352245"
      ]
     },
     "execution_count": 5,
     "metadata": {},
     "output_type": "execute_result"
    }
   ],
   "source": [
    "rf = RandomForestClassifier(criterion=\"gini\")\n",
    "pipe_RF_search = Pipeline(steps=[('scaler',  StandardScaler()),\n",
    "            ('RandomForestClassifier', RandomForestClassifier(criterion=\"gini\"))], verbose=0)\n",
    "rf_param_grid = { \"RandomForestClassifier__n_estimators\"      : [100, 250, 300, 500],           \n",
    "           \"RandomForestClassifier__max_features\"      : [5,7,11,15]}\n",
    "rf_grid_search = GridSearchCV(pipe_RF_search, rf_param_grid,cv=3, scoring='balanced_accuracy')\n",
    "rf_grid_search.fit(df_train_adapted.to_numpy(), YTrain)\n",
    "df_rf_gs = pd.DataFrame(rf_grid_search.cv_results_)[\n",
    "    [\"param_RandomForestClassifier__n_estimators\", \"param_RandomForestClassifier__max_features\",\"mean_test_score\", ]]\n",
    "\n",
    "df_rf_gs = df_rf_gs.rename(columns={\"param_RandomForestClassifier__n_estimators\": \"n_Trees\",\n",
    "\"param_RandomForestClassifier__max_features\": \"Max_Features\", \"mean_test_score\": \"Bal. Acc\"})\n",
    "df_rf_gs.sort_values(by=[\"Bal. Acc\"], ascending=[False]).head(5)"
   ]
  },
  {
   "cell_type": "code",
   "execution_count": null,
   "id": "0cf75af7-2ebc-458d-a847-d330298cc942",
   "metadata": {},
   "outputs": [],
   "source": [
    "pipe_KNN_search = Pipeline(steps=[('scaler',  StandardScaler()),\n",
    "            ('KNeighborsClassifier', KNeighborsClassifier())], verbose=0)\n",
    "rf_param_grid = { \"KNeighborsClassifier__n_estimators\"      : [100, 250, 300, 500],           \n",
    "           \"KNeighborsClassifier__max_features\"      : [5,7,11,15]}\n",
    "rf_grid_search = GridSearchCV(pipe_RF_search, rf_param_grid,cv=3, scoring='balanced_accuracy')\n",
    "rf_grid_search.fit(df_train_adapted.to_numpy(), YTrain)\n",
    "df_rf_gs = pd.DataFrame(rf_grid_search.cv_results_)[\n",
    "    [\"param_RandomForestClassifier__n_estimators\", \"param_RandomForestClassifier__max_features\",\"mean_test_score\", ]]\n",
    "\n",
    "df_rf_gs = df_rf_gs.rename(columns={\"param_RandomForestClassifier__n_estimators\": \"n_Trees\",\n",
    "\"param_RandomForestClassifier__max_features\": \"Max_Features\", \"mean_test_score\": \"Bal. Acc\"})\n",
    "df_rf_gs.sort_values(by=[\"Bal. Acc\"], ascending=[False]).head(5)"
   ]
  },
  {
   "cell_type": "code",
   "execution_count": 5,
   "id": "969966d6-3189-45cd-b155-62e88c846175",
   "metadata": {},
   "outputs": [
    {
     "name": "stdout",
     "output_type": "stream",
     "text": [
      "Index(['Lav-Alg_Ontevredenheid', 'Lav-Gebrek_Vertrouwdheid',\n",
      "       'Lav-Neg_Waardering', 'Lav-Score', 'intid', 'p_lav_filled_date',\n",
      "       'p_lav_send_date', 'seq_num-lav', 'MHCSF-EmotionWB', 'MHCSF-PsychWB',\n",
      "       'MHCSF-Score', 'MHCSF-SocialWB', 'p_mhcsf_filled_date', 'seq_num-mhc',\n",
      "       'pid', 'seq_num-sq48', 'Split', 'p_sq48_filled_date',\n",
      "       'SQ48-Vijandigheid', 'SQ48-Agorafobie', 'SQ48-Angst', 'SQ48-Depressie',\n",
      "       'SQ48-Cognitieve_Klachten', 'SQ48-Somatische_Klachten',\n",
      "       'SQ48-Sociale_Fobie', 'SQ48-Vitaliteit_Optimisme', 'SQ48-Werk_Studie',\n",
      "       'SQ48-Score', 'EDEQ-Score', 'EDtype', 'Main-Age', 'Main-Bsex',\n",
      "       'Main-Highest_Edu', 'edu_level', 'p_dischargedate', 'p_startdate',\n",
      "       'seq_num-edeq', 'Main-Biosex', 'ED_Codes', 'Main-Education'],\n",
      "      dtype='object')\n"
     ]
    },
    {
     "ename": "NameError",
     "evalue": "name 'colRename_dict' is not defined",
     "output_type": "error",
     "traceback": [
      "\u001b[0;31m---------------------------------------------------------------------------\u001b[0m",
      "\u001b[0;31mNameError\u001b[0m                                 Traceback (most recent call last)",
      "Cell \u001b[0;32mIn[5], line 13\u001b[0m\n\u001b[1;32m     10\u001b[0m df_adapted_combo[\u001b[38;5;124m'\u001b[39m\u001b[38;5;124mMain-Education\u001b[39m\u001b[38;5;124m'\u001b[39m]\u001b[38;5;241m=\u001b[39mdf_adapted_combo[\u001b[38;5;124m'\u001b[39m\u001b[38;5;124mMain-Education\u001b[39m\u001b[38;5;124m'\u001b[39m]\u001b[38;5;241m.\u001b[39mastype(\u001b[38;5;28mfloat\u001b[39m)\n\u001b[1;32m     12\u001b[0m \u001b[38;5;28mprint\u001b[39m(df_adapted_combo\u001b[38;5;241m.\u001b[39mcolumns)\n\u001b[0;32m---> 13\u001b[0m df_adapted_combo\u001b[38;5;241m.\u001b[39mrename(columns\u001b[38;5;241m=\u001b[39m\u001b[43mcolRename_dict\u001b[49m, inplace\u001b[38;5;241m=\u001b[39m\u001b[38;5;28;01mTrue\u001b[39;00m)\n\u001b[1;32m     15\u001b[0m adapted_combo_cols\u001b[38;5;241m=\u001b[39m[\u001b[38;5;124m'\u001b[39m\u001b[38;5;124mMain-Age\u001b[39m\u001b[38;5;124m'\u001b[39m,\u001b[38;5;124m'\u001b[39m\u001b[38;5;124mLav-Alg_Ontevredenheid\u001b[39m\u001b[38;5;124m'\u001b[39m, \u001b[38;5;124m'\u001b[39m\u001b[38;5;124mLav-Gebrek_Vertrouwdheid\u001b[39m\u001b[38;5;124m'\u001b[39m,\n\u001b[1;32m     16\u001b[0m     \u001b[38;5;124m'\u001b[39m\u001b[38;5;124mLav-Neg_Waardering\u001b[39m\u001b[38;5;124m'\u001b[39m,\u001b[38;5;124m'\u001b[39m\u001b[38;5;124mSQ48-Hostility\u001b[39m\u001b[38;5;124m'\u001b[39m,\u001b[38;5;124m'\u001b[39m\u001b[38;5;124mSQ48-Agorafobie\u001b[39m\u001b[38;5;124m'\u001b[39m,\u001b[38;5;124m'\u001b[39m\u001b[38;5;124mSQ48-Angst\u001b[39m\u001b[38;5;124m'\u001b[39m,\u001b[38;5;124m'\u001b[39m\u001b[38;5;124mSQ48-Depressie\u001b[39m\u001b[38;5;124m'\u001b[39m,\u001b[38;5;124m'\u001b[39m\u001b[38;5;124mSQ48-Cognitieve_Complain\u001b[39m\u001b[38;5;124m'\u001b[39m,\n\u001b[1;32m     17\u001b[0m     \u001b[38;5;124m'\u001b[39m\u001b[38;5;124mSQ48-Somatische_Complain\u001b[39m\u001b[38;5;124m'\u001b[39m, \u001b[38;5;124m'\u001b[39m\u001b[38;5;124mSQ48-Sociale_Fobie\u001b[39m\u001b[38;5;124m'\u001b[39m,\u001b[38;5;124m'\u001b[39m\u001b[38;5;124mSQ48-Vitaliteit_Optimisme\u001b[39m\u001b[38;5;124m'\u001b[39m,\u001b[38;5;124m'\u001b[39m\u001b[38;5;124mSQ48-Werk_Studie\u001b[39m\u001b[38;5;124m'\u001b[39m, \u001b[38;5;124m'\u001b[39m\u001b[38;5;124mMHCSF-EmotionWB\u001b[39m\u001b[38;5;124m'\u001b[39m, \n\u001b[1;32m     18\u001b[0m     \u001b[38;5;124m'\u001b[39m\u001b[38;5;124mMHCSF-SocialWB\u001b[39m\u001b[38;5;124m'\u001b[39m, \u001b[38;5;124m'\u001b[39m\u001b[38;5;124mMHCSF-PsychWB\u001b[39m\u001b[38;5;124m'\u001b[39m]\n\u001b[1;32m     19\u001b[0m \u001b[38;5;28mprint\u001b[39m(df_adapted_combo[\u001b[38;5;124m'\u001b[39m\u001b[38;5;124mpid\u001b[39m\u001b[38;5;124m'\u001b[39m]\u001b[38;5;241m.\u001b[39mnunique(), df_adapted_combo[\u001b[38;5;124m'\u001b[39m\u001b[38;5;124mintid\u001b[39m\u001b[38;5;124m'\u001b[39m]\u001b[38;5;241m.\u001b[39mnunique())\n",
      "\u001b[0;31mNameError\u001b[0m: name 'colRename_dict' is not defined"
     ]
    }
   ],
   "source": [
    "\n",
    "\n",
    "names = [\"KNN\", \"Linear SVM\", \"RBF SVM\", \"RF\", \"NB\",\"QDA\", \"LDA\"]\n",
    "classifiers = [\n",
    "    KNeighborsClassifier(3),\n",
    "    SVC(kernel=\"linear\", C=0.025, random_state=42),\n",
    "    SVC(gamma=2, C=1, random_state=42),\n",
    "    RandomForestClassifier(max_depth=5, n_estimators=10, max_features=1, random_state=42),\n",
    "    GaussianNB(),\n",
    "    QuadraticDiscriminantAnalysis(),\n",
    "]\n",
    "\n",
    "\n"
   ]
  },
  {
   "cell_type": "code",
   "execution_count": null,
   "id": "cf14e3d1-1504-41f9-aa32-76e235bd9d16",
   "metadata": {},
   "outputs": [],
   "source": []
  }
 ],
 "metadata": {
  "kernelspec": {
   "display_name": "Python 3 (ipykernel)",
   "language": "python",
   "name": "python3"
  },
  "language_info": {
   "codemirror_mode": {
    "name": "ipython",
    "version": 3
   },
   "file_extension": ".py",
   "mimetype": "text/x-python",
   "name": "python",
   "nbconvert_exporter": "python",
   "pygments_lexer": "ipython3",
   "version": "3.10.9"
  }
 },
 "nbformat": 4,
 "nbformat_minor": 5
}

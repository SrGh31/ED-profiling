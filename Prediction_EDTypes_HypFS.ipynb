{
 "cells": [
  {
   "cell_type": "code",
   "execution_count": 1,
   "id": "53b3117a-d62a-4e1f-b43e-b3eedb1066b8",
   "metadata": {},
   "outputs": [
    {
     "name": "stderr",
     "output_type": "stream",
     "text": [
      "/home/sreejita/anaconda3/envs/py_env1/lib/python3.10/site-packages/dask/dataframe/__init__.py:49: FutureWarning: \n",
      "Dask dataframe query planning is disabled because dask-expr is not installed.\n",
      "\n",
      "You can install it with `pip install dask[dataframe]` or `conda install dask`.\n",
      "This will raise in a future version.\n",
      "\n",
      "  warnings.warn(msg, FutureWarning)\n"
     ]
    },
    {
     "name": "stdout",
     "output_type": "stream",
     "text": [
      "/home/sreejita/ProjectsPy/GGZ/code_scripts/ED-profiling\n",
      "/home/sreejita/ProjectsPy/GGZ/data/annonymizedDatasets/\n",
      "['DT-BMI' 'DT-Disorder_Duration_Yrs' 'DT-IND_BDL_CMD' 'DT-IND_OCD_CMD'\n",
      " 'DT-IND_depression_CMD' 'DT-IND_others' 'DT-IND_prev_spec_int_wo_eff'\n",
      " 'DT-num_prev_routes' 'Lav-Dissatisfaction_body'\n",
      " 'Lav-Negative_appraisal_body' 'Lav-Unfamiliarity_with_body'\n",
      " 'MHCSF-Emotional_Well-being' 'MHCSF-Psychological_Well-being'\n",
      " 'MHCSF-Social_Well-being' 'Main-Age' 'Main-Biosex' 'Main-Education'\n",
      " 'SQ48-Agoraphobia' 'SQ48-Anxiety' 'SQ48-Cognitive_Complaints'\n",
      " 'SQ48-Depression' 'SQ48-Hostility' 'SQ48-Social_phobia'\n",
      " 'SQ48-Somatic_Complaints' 'SQ48-Vitality' 'SQ48-Work_related_complaints']\n"
     ]
    }
   ],
   "source": [
    "import numpy as np\n",
    "import pandas as pd\n",
    "import sys\n",
    "import seaborn as sns\n",
    "import os.path\n",
    "import time, itertools, re\n",
    "import importlib\n",
    "from collections import Counter\n",
    "import scipy as sc\n",
    "import miceforest as mf\n",
    "from sklearn.metrics import make_scorer, balanced_accuracy_score, confusion_matrix, root_mean_squared_error\n",
    "from sklearn.preprocessing import StandardScaler\n",
    "from sklearn.model_selection import GridSearchCV, RepeatedStratifiedKFold\n",
    "from sklearn.pipeline import make_pipeline, Pipeline\n",
    "import warnings\n",
    "warnings.filterwarnings('ignore')\n",
    "import matplotlib.pyplot as plt\n",
    "print(os.getcwd())\n",
    "fileloc_data='/'.join(os.getcwd().split('/')[0:5])+ '/data/annonymizedDatasets/'\n",
    "savetag='pred_lavSQ_MHC'\n",
    "print(fileloc_data)\n",
    "code_path='/'.join(os.getcwd().split('/')[0:4])+'/sklvq/'\n",
    "sys.path.append(code_path)\n",
    "from sklvq import GMLVQ, LGMLVQ\n",
    "from sklearn.ensemble import RandomForestClassifier\n",
    "from sklearn.naive_bayes import GaussianNB\n",
    "from sklearn.neighbors import KNeighborsClassifier\n",
    "from sklearn.discriminant_analysis import LinearDiscriminantAnalysis\n",
    "from sklearn.svm import SVC\n",
    "from EDdataset_GGZ import colsTypeCast    \n",
    "df_all_combo=pd.read_csv(fileloc_data+'maskedDAIsy_MainDect_ED_SQ48_MHC_Honos_Lav.tsv', sep='\\t', decimal=',')\n",
    "df_adapted_combo, colsExtracted, subscales=colsTypeCast(df_all_combo)\n",
    "adapted_combo_cols=np.setdiff1d(colsExtracted,\n",
    "        ['ED_Codes','EDtype', 'SQ48-Score', 'MHCSF-Score', 'Lav-Score']+list(subscales['Honos'])+list(subscales['EDEQ']))\n",
    "print(adapted_combo_cols)"
   ]
  },
  {
   "cell_type": "code",
   "execution_count": 2,
   "id": "820ce322-eb03-4179-9302-7556abb7b7c6",
   "metadata": {},
   "outputs": [],
   "source": [
    "%load_ext autoreload"
   ]
  },
  {
   "cell_type": "markdown",
   "id": "3c9bfc2f-5bd2-4b04-b239-cb37d82b224f",
   "metadata": {},
   "source": [
    "# Classification"
   ]
  },
  {
   "cell_type": "code",
   "execution_count": 3,
   "id": "50bf1935-7195-42b8-afac-cef5c2a086c8",
   "metadata": {},
   "outputs": [
    {
     "name": "stdout",
     "output_type": "stream",
     "text": [
      "(97, 26) (35, 26)\n"
     ]
    }
   ],
   "source": [
    "\n",
    "df_train_adapted=df_adapted_combo[adapted_combo_cols].loc[df_adapted_combo['Split']=='Train']\n",
    "YTrain=df_adapted_combo['EDtype'].loc[df_adapted_combo['Split']=='Train']#.to_numpy()\n",
    "df_test_adapted=df_adapted_combo[adapted_combo_cols].loc[df_adapted_combo['Split']=='Test']\n",
    "YTest=df_adapted_combo['EDtype'].loc[df_adapted_combo['Split']=='Test']#.to_numpy()\n",
    "\n",
    "nan_mean=np.nanmean(df_train_adapted.to_numpy(), axis=0)\n",
    "nan_std=np.nanstd(df_train_adapted.to_numpy(), axis=0)\n",
    "z_train_explore_nan=((df_train_adapted.to_numpy()-nan_mean)/nan_std)\n",
    "z_test_df=pd.DataFrame(data=((df_test_adapted.to_numpy()-nan_mean)/nan_std), columns=adapted_combo_cols)\n",
    "z_train_df=pd.DataFrame(data=z_train_explore_nan, columns=adapted_combo_cols)\n",
    "\n",
    "\n",
    "kernel_mean_match = mf.ImputationKernel(data=z_train_df,num_datasets=1,mean_match_candidates=5)\n",
    "kernel_mean_match.mice(10)\n",
    "z_train_explore=pd.DataFrame(data=kernel_mean_match.complete_data(), columns=adapted_combo_cols)\n",
    "temp_test=kernel_mean_match.impute_new_data(z_test_df)\n",
    "z_test_explore=pd.DataFrame(data=temp_test.complete_data(), columns=adapted_combo_cols)\n",
    "print(z_train_explore.shape, z_test_explore.shape)"
   ]
  },
  {
   "cell_type": "code",
   "execution_count": 4,
   "id": "d30bee1b-f46d-4d66-ad2e-baa53f6b77c0",
   "metadata": {},
   "outputs": [
    {
     "name": "stdout",
     "output_type": "stream",
     "text": [
      "RF: \n",
      "     n_Trees  Max_Features  Lowest_CWA\n",
      "7       300            10    0.578788\n",
      "4       300             7    0.567424\n",
      "10      300            20    0.563131\n",
      "6       100            10    0.562626\n",
      "KNN: \n",
      "    K Dist Metric  Lowest_CWA\n",
      "3  3      cosine    0.472475\n",
      "1  5   minkowski    0.422475\n",
      "4  5      cosine    0.421970\n",
      "0  3   minkowski    0.421465\n",
      "LDA: \n",
      "   Solver  Lowest_CWA\n",
      "2  eigen    0.473485\n",
      "0    svd    0.472475\n",
      "1   lsqr    0.472475\n",
      "3  eigen         NaN\n",
      "Linear SVM: \n",
      "        C  Lowest_CWA\n",
      "4   10.0    0.603788\n",
      "5  100.0    0.603788\n",
      "3    1.0    0.590657\n",
      "2    0.1    0.519192\n",
      "RBF SVM: \n",
      "         C  Gamma  Lowest_CWA\n",
      "32  100.0  0.010    0.637626\n",
      "26   10.0  0.010    0.600000\n",
      "31  100.0  0.001    0.556566\n",
      "20    1.0  0.010    0.429293\n"
     ]
    }
   ],
   "source": [
    "%autoreload 2\n",
    "from HypOpt import GridSearchClassifiers, GridSearch_LVQ\n",
    "sampling_strategy='not majority'\n",
    "param_grid={'RF_Max_Features': [5,7,10, 20,25], 'RF_n_Trees':[100, 300, 500], 'RF_min_leaf':5,\n",
    "           'scorer_name':'Lowest_CWA'}\n",
    "GridSearchClassifiers(z_train_explore, YTrain,sampling_strategy, param_grid)"
   ]
  },
  {
   "cell_type": "code",
   "execution_count": 6,
   "id": "4940393c-7624-4e33-b119-c39411478388",
   "metadata": {},
   "outputs": [
    {
     "name": "stdout",
     "output_type": "stream",
     "text": [
      "[[0.97142857 0.02857143 0.         0.         0.        ]\n",
      " [0.05       0.9        0.         0.05       0.        ]\n",
      " [0.07692308 0.07692308 0.84615385 0.         0.        ]\n",
      " [0.05882353 0.17647059 0.         0.76470588 0.        ]\n",
      " [0.08333333 0.         0.         0.         0.91666667]]\n",
      "[[0.5        0.0625     0.         0.125      0.3125    ]\n",
      " [0.125      0.625      0.125      0.125      0.        ]\n",
      " [0.         0.33333333 0.         0.         0.66666667]\n",
      " [0.         0.         0.2        0.6        0.2       ]\n",
      " [0.         0.33333333 0.         0.         0.66666667]]\n"
     ]
    }
   ],
   "source": [
    "from imblearn.over_sampling import SMOTE\n",
    "pipeRF=Pipeline(steps=[('RF', RandomForestClassifier(criterion=\"gini\", min_samples_leaf=5, \n",
    "                        class_weight='balanced_subsample',n_estimators=500, max_features=10))])\n",
    "labs=np.unique(YTrain)\n",
    "sm=SMOTE(sampling_strategy=sampling_strategy)\n",
    "X,Y=sm.fit_resample(z_train_explore, YTrain)\n",
    "pipeRF.fit(X,Y)\n",
    "print(confusion_matrix(YTrain, pipeRF.predict(z_train_explore), normalize='true', labels=labs))\n",
    "print(confusion_matrix(YTest, pipeRF.predict(z_test_explore), normalize='true', labels=labs))"
   ]
  },
  {
   "cell_type": "code",
   "execution_count": 7,
   "id": "a2b780f7-ed39-412e-8ce5-108af24aeee4",
   "metadata": {},
   "outputs": [
    {
     "name": "stdout",
     "output_type": "stream",
     "text": [
      "GMLVQ: \n",
      "         Prot per cls Solver  Num Component Activation type  Lowest_CWA\n",
      "98   [3, 2, 2, 1, 1]  lbfgs              5           swish    0.547980\n",
      "106  [3, 2, 2, 1, 1]  lbfgs             20           swish    0.542929\n",
      "82   [3, 3, 3, 1, 1]  lbfgs              5           swish    0.531061\n",
      "99   [3, 2, 2, 1, 1]   adam              5           swish    0.530808\n"
     ]
    }
   ],
   "source": [
    "param_grid_lvq={'prot_choice': [np.array([3,3,3,1,1]),np.array([3,2,2,1,1]),\n",
    "            np.array([2,2,2,1,1]),np.array([1,1,1,1,1]), np.array([1,1,2,1,1])],\n",
    "               'n_comp':[5,10, 20,26], 'scorer_name':'Lowest_CWA'}\n",
    "GridSearch_LVQ(z_train_explore, YTrain,sampling_strategy, param_grid_lvq)"
   ]
  },
  {
   "cell_type": "code",
   "execution_count": 17,
   "id": "fd1a282a-3c9e-4128-9bef-75d3b91f6e01",
   "metadata": {},
   "outputs": [
    {
     "name": "stdout",
     "output_type": "stream",
     "text": [
      "[[0.88571429 0.02857143 0.         0.02857143 0.05714286]\n",
      " [0.         0.95       0.         0.         0.05      ]\n",
      " [0.         0.07692308 0.92307692 0.         0.        ]\n",
      " [0.11764706 0.05882353 0.05882353 0.70588235 0.05882353]\n",
      " [0.08333333 0.         0.         0.         0.91666667]]\n",
      "[[0.375      0.0625     0.25       0.0625     0.25      ]\n",
      " [0.         0.5        0.375      0.125      0.        ]\n",
      " [0.33333333 0.33333333 0.         0.33333333 0.        ]\n",
      " [0.2        0.         0.6        0.         0.2       ]\n",
      " [0.33333333 0.         0.33333333 0.         0.33333333]]\n"
     ]
    }
   ],
   "source": [
    "pipeGMLVQ=Pipeline(steps=[('GMLVQ', GMLVQ(distance_type='adaptive-squared-euclidean', \n",
    "            prototype_n_per_class=np.array([3, 2, 2, 1, 1]), relevance_regularization=0.001,\n",
    "            activation_type='swish',relevance_n_components=20, solver_type='lbfgs'))])\n",
    "pipeGMLVQ.fit(X,Y)\n",
    "print(confusion_matrix(YTrain, pipeGMLVQ.predict(z_train_explore), normalize='true', labels=labs))\n",
    "print(confusion_matrix(YTest, pipeGMLVQ.predict(z_test_explore), normalize='true', labels=labs))"
   ]
  },
  {
   "cell_type": "code",
   "execution_count": 18,
   "id": "67ff5873-a83e-44d1-b5c2-f78efceb8328",
   "metadata": {},
   "outputs": [],
   "source": [
    "\n",
    "df_train_eds=df_adapted_combo[adapted_combo_cols].loc[(df_adapted_combo['Split']=='Train') & (df_adapted_combo['EDtype']!='Others')]\n",
    "YTrain_eds=df_adapted_combo['EDtype'].loc[(df_adapted_combo['Split']=='Train') & (df_adapted_combo['EDtype']!='Others')]#.to_numpy()\n",
    "df_test_eds=df_adapted_combo[adapted_combo_cols].loc[(df_adapted_combo['Split']=='Test') & (df_adapted_combo['EDtype']!='Others')]\n",
    "YTest_eds=df_adapted_combo['EDtype'].loc[(df_adapted_combo['Split']=='Test') & (df_adapted_combo['EDtype']!='Others')]#.to_numpy()\n",
    "#GridSearchClassifiers(df_train_eds, YTrain_eds, sampling_strategy)\n",
    "#GridSearch_LVQ(df_train_eds, YTrain_eds, sampling_strategy)"
   ]
  },
  {
   "cell_type": "code",
   "execution_count": 23,
   "id": "3cb02235-8dac-4fdf-877b-4552075475e9",
   "metadata": {},
   "outputs": [],
   "source": [
    "nan_mean=np.nanmean(df_train_eds.to_numpy(), axis=0)\n",
    "nan_std=np.nanstd(df_train_eds.to_numpy(), axis=0)\n",
    "z_train_eds_nan=((df_train_eds.to_numpy()-nan_mean)/nan_std)\n",
    "z_train_ed_df=pd.DataFrame(data=z_train_eds_nan, columns=adapted_combo_cols)\n",
    "z_test_ed_df=pd.DataFrame(data=((df_test_eds.to_numpy()-nan_mean)/nan_std), columns=adapted_combo_cols)\n",
    "\n",
    "kernel_mm= mf.ImputationKernel(data=z_train_ed_df,num_datasets=1,mean_match_candidates=5)\n",
    "kernel_mm.mice(10)\n",
    "z_train_eds=pd.DataFrame(data=kernel_mm.complete_data(), columns=adapted_combo_cols)\n",
    "temp_test=kernel_mm.impute_new_data(z_test_ed_df)\n",
    "z_test_eds=pd.DataFrame(data=temp_test.complete_data(), columns=adapted_combo_cols)\n"
   ]
  },
  {
   "cell_type": "code",
   "execution_count": 20,
   "id": "325bf883-90b4-475c-a13b-9cc2b6e94fba",
   "metadata": {},
   "outputs": [
    {
     "name": "stdout",
     "output_type": "stream",
     "text": [
      "RF: \n",
      "    n_Trees  Max_Features  Lowest_CWA\n",
      "5      500             7    0.637374\n",
      "0      100             5    0.632828\n",
      "1      300             5    0.629545\n",
      "2      500             5    0.618939\n",
      "KNN: \n",
      "    K Dist Metric  Lowest_CWA\n",
      "3  3      cosine    0.582323\n",
      "0  3   minkowski    0.518939\n",
      "4  5      cosine    0.495455\n",
      "5  7      cosine    0.490152\n",
      "LDA: \n",
      "   Solver  Lowest_CWA\n",
      "2  eigen    0.557828\n",
      "0    svd    0.555556\n",
      "1   lsqr    0.555556\n",
      "3  eigen         NaN\n",
      "Linear SVM: \n",
      "        C  Lowest_CWA\n",
      "5  100.0    0.675000\n",
      "4   10.0    0.669192\n",
      "3    1.0    0.643434\n",
      "2    0.1    0.578788\n",
      "RBF SVM: \n",
      "         C  Gamma  Lowest_CWA\n",
      "32  100.0  0.010    0.734343\n",
      "26   10.0  0.010    0.693687\n",
      "31  100.0  0.001    0.627778\n",
      "20    1.0  0.010    0.535101\n"
     ]
    }
   ],
   "source": [
    "GridSearchClassifiers(z_train_eds, YTrain_eds, sampling_strategy, param_grid)"
   ]
  },
  {
   "cell_type": "code",
   "execution_count": 24,
   "id": "0f8dc04b-bbbd-4e72-8c16-d30affbcebf1",
   "metadata": {},
   "outputs": [
    {
     "name": "stdout",
     "output_type": "stream",
     "text": [
      "[[0.97142857 0.         0.02857143 0.        ]\n",
      " [0.05       0.85       0.05       0.05      ]\n",
      " [0.30769231 0.         0.69230769 0.        ]\n",
      " [0.         0.         0.         1.        ]]\n",
      "[[0.5625     0.0625     0.1875     0.1875    ]\n",
      " [0.         0.875      0.         0.125     ]\n",
      " [0.66666667 0.33333333 0.         0.        ]\n",
      " [0.2        0.         0.4        0.4       ]]\n"
     ]
    }
   ],
   "source": [
    "pipeRF2=Pipeline(steps=[('RF', RandomForestClassifier(criterion=\"gini\", min_samples_leaf=5,\n",
    "                        class_weight='balanced_subsample', n_estimators=500, max_features=7))])\n",
    "sm2=SMOTE(sampling_strategy=sampling_strategy)\n",
    "X2,Y2=sm2.fit_resample(z_train_eds, YTrain_eds)\n",
    "pipeRF2.fit(X2, Y2)\n",
    "print(confusion_matrix(YTrain_eds, pipeRF2.predict(z_train_eds), normalize='true', labels=np.unique(YTrain_eds)))\n",
    "print(confusion_matrix(YTest_eds, pipeRF2.predict(z_test_eds), normalize='true', labels=np.unique(YTrain_eds)))"
   ]
  },
  {
   "cell_type": "code",
   "execution_count": 22,
   "id": "08245214-cd24-4904-8eec-c02823e9b380",
   "metadata": {},
   "outputs": [
    {
     "name": "stdout",
     "output_type": "stream",
     "text": [
      "GMLVQ: \n",
      "      Prot per cls Solver  Num Component Activation type  Lowest_CWA\n",
      "186  [2, 1, 2, 1]  lbfgs             20           swish    0.655051\n",
      "106  [3, 2, 1, 1]  lbfgs             20           swish    0.646970\n",
      "118  [3, 3, 2, 1]  lbfgs             15           swish    0.644697\n",
      "138  [3, 2, 2, 1]  lbfgs             20           swish    0.640909\n"
     ]
    }
   ],
   "source": [
    "param_grid_lvq2={'prot_choice': [np.array([3,2,1,1]),np.array([3,3,2,1]),np.array([3,2,2,1]),\n",
    "            np.array([1,1,1,1]), np.array([1,1,2,1]), np.array([2,1, 2, 1])],\n",
    "               'n_comp':[7,15, 20,29], 'scorer_name':'Lowest_CWA'}\n",
    "GridSearch_LVQ(z_train_eds, YTrain_eds, sampling_strategy, param_grid_lvq2)"
   ]
  },
  {
   "cell_type": "code",
   "execution_count": 38,
   "id": "09c5a130-aac2-4bf6-ba4f-7660a503089e",
   "metadata": {},
   "outputs": [
    {
     "name": "stdout",
     "output_type": "stream",
     "text": [
      "[[0.97142857 0.02857143 0.         0.        ]\n",
      " [0.         1.         0.         0.        ]\n",
      " [0.07692308 0.         0.84615385 0.07692308]\n",
      " [0.05882353 0.         0.         0.94117647]]\n",
      "[[0.6875     0.125      0.125      0.0625    ]\n",
      " [0.125      0.875      0.         0.        ]\n",
      " [0.66666667 0.33333333 0.         0.        ]\n",
      " [0.6        0.2        0.         0.2       ]]\n"
     ]
    }
   ],
   "source": [
    "g_num_prots=np.array([2,1, 2, 1])\n",
    "pipeGMLVQ2=Pipeline(steps=[('GMLVQ', GMLVQ(distance_type='adaptive-squared-euclidean', prototype_n_per_class=g_num_prots,\n",
    "    activation_type='soft+',activation_params={\"beta\":3.5},relevance_n_components=20, \n",
    "                                           solver_type='lbfgs', relevance_regularization=0.01))])\n",
    "pipeGMLVQ2.fit(X2, Y2)\n",
    "print(confusion_matrix(YTrain_eds, pipeGMLVQ2.predict(z_train_eds), normalize='true', labels=np.unique(YTrain_eds)))\n",
    "print(confusion_matrix(YTest_eds, pipeGMLVQ2.predict(z_test_eds), normalize='true', labels=np.unique(YTrain_eds)))"
   ]
  },
  {
   "cell_type": "markdown",
   "id": "a6cacbf5-7024-4818-bff1-aee724f39ce9",
   "metadata": {},
   "source": [
    "# Regression"
   ]
  },
  {
   "cell_type": "code",
   "execution_count": 41,
   "id": "79ff332b-3480-460f-acba-6f6f431d241c",
   "metadata": {
    "scrolled": true
   },
   "outputs": [
    {
     "name": "stdout",
     "output_type": "stream",
     "text": [
      "KNN: \n",
      "    K Dist Metric     Score  Abs_Score\n",
      "4  5      cosine -0.215046   0.215046\n",
      "5  7      cosine -0.215067   0.215067\n",
      "2  7   minkowski -0.225825   0.225825\n",
      "0  3   minkowski -0.227075   0.227075\n",
      "RF: \n",
      "     n_Trees  Max_Features      Criterion     Score  Abs_Score\n",
      "12      100            25  squared_error -0.208916   0.208916\n",
      "8       500            10  squared_error -0.209436   0.209436\n",
      "39      100            20   friedman_mse -0.209545   0.209545\n",
      "40      300            20   friedman_mse -0.209962   0.209962\n",
      "Linear SVM: \n",
      "        C     Score  Abs_Score\n",
      "1  0.010 -0.228766   0.228766\n",
      "2  0.100 -0.254039   0.254039\n",
      "0  0.001 -0.267589   0.267589\n",
      "3  1.000 -0.277366   0.277366\n",
      "RBF SVM: \n",
      "         C   Gamma     Score  Abs_Score\n",
      "20    1.0  0.0100 -0.228277   0.228277\n",
      "25   10.0  0.0010 -0.231697   0.231697\n",
      "30  100.0  0.0001 -0.233006   0.233006\n",
      "26   10.0  0.0100 -0.233561   0.233561\n"
     ]
    }
   ],
   "source": [
    "%autoreload 2\n",
    "#import importlib\n",
    "#importlib.reload(\n",
    "from HypOptRegress import GridSearchRegressors\n",
    "param_grid_reg={'scorer': 'neg_root_mean_squared_log_error', 'RF':param_grid}\n",
    "#df_train_adapted=df_adapted_combo[adapted_combo_cols].loc[df_adapted_combo['Split']=='Train']\n",
    "YTrain_reg=df_adapted_combo['EDEQ-Score'].loc[df_adapted_combo['Split']=='Train']#.to_numpy()\n",
    "#df_test_adapted=df_adapted_combo[adapted_combo_cols].loc[df_adapted_combo['Split']=='Test']\n",
    "YTest_reg=df_adapted_combo['EDEQ-Score'].loc[df_adapted_combo['Split']=='Test']\n",
    "GridSearchRegressors(z_train_explore, YTrain_reg.to_numpy(), param_grid_reg)"
   ]
  },
  {
   "cell_type": "code",
   "execution_count": 43,
   "id": "51d30969-3ddc-4ab2-841f-e84997731c9b",
   "metadata": {},
   "outputs": [
    {
     "name": "stdout",
     "output_type": "stream",
     "text": [
      "KNN: \n",
      "    K Dist Metric     Score  Abs_Score\n",
      "4  5      cosine -0.228949   0.228949\n",
      "1  5   minkowski -0.231642   0.231642\n",
      "2  7   minkowski -0.236019   0.236019\n",
      "5  7      cosine -0.237255   0.237255\n",
      "RF: \n",
      "     n_Trees  Max_Features      Criterion     Score  Abs_Score\n",
      "9       100            20  squared_error -0.213230   0.213230\n",
      "39      100            20   friedman_mse -0.214002   0.214002\n",
      "6       100            10  squared_error -0.214402   0.214402\n",
      "56      500            20        poisson -0.214871   0.214871\n",
      "Linear SVM: \n",
      "        C     Score  Abs_Score\n",
      "1  0.010 -0.238631   0.238631\n",
      "2  0.100 -0.265667   0.265667\n",
      "0  0.001 -0.280206   0.280206\n",
      "3  1.000 -0.310699   0.310699\n",
      "RBF SVM: \n",
      "         C   Gamma     Score  Abs_Score\n",
      "26   10.0  0.0100 -0.233543   0.233543\n",
      "20    1.0  0.0100 -0.238126   0.238126\n",
      "25   10.0  0.0010 -0.238259   0.238259\n",
      "30  100.0  0.0001 -0.238856   0.238856\n"
     ]
    }
   ],
   "source": [
    "#df_train_eds=df_adapted_combo[adapted_combo_cols].loc[(df_adapted_combo['Split']=='Train') & (df_adapted_combo['EDtype']!='Others')]\n",
    "YTrain_eds=df_adapted_combo['EDEQ-Score'].loc[(df_adapted_combo['Split']=='Train') & (df_adapted_combo['EDtype']!='Others')]#.to_numpy()\n",
    "#df_test_eds=df_adapted_combo[adapted_combo_cols].loc[(df_adapted_combo['Split']=='Test') & (df_adapted_combo['EDtype']!='Others')]\n",
    "YTest_eds=df_adapted_combo['EDEQ-Score'].loc[(df_adapted_combo['Split']=='Test') & (df_adapted_combo['EDtype']!='Others')]#.to_numpy()\n",
    "\n",
    "GridSearchRegressors(z_train_eds, YTrain_eds.to_numpy(), param_grid_reg)"
   ]
  },
  {
   "cell_type": "code",
   "execution_count": null,
   "id": "268e047d-0a54-45eb-b309-b15975aa7330",
   "metadata": {},
   "outputs": [],
   "source": []
  }
 ],
 "metadata": {
  "kernelspec": {
   "display_name": "Python 3 (ipykernel)",
   "language": "python",
   "name": "python3"
  },
  "language_info": {
   "codemirror_mode": {
    "name": "ipython",
    "version": 3
   },
   "file_extension": ".py",
   "mimetype": "text/x-python",
   "name": "python",
   "nbconvert_exporter": "python",
   "pygments_lexer": "ipython3",
   "version": "3.10.9"
  }
 },
 "nbformat": 4,
 "nbformat_minor": 5
}

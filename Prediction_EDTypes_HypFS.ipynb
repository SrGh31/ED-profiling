{
 "cells": [
  {
   "cell_type": "code",
   "execution_count": 1,
   "id": "53b3117a-d62a-4e1f-b43e-b3eedb1066b8",
   "metadata": {},
   "outputs": [
    {
     "name": "stdout",
     "output_type": "stream",
     "text": [
      "/home/sreejita/ProjectsPy/GGZ/code_scripts/ED-profiling\n",
      "/home/sreejita/ProjectsPy/GGZ/data/annonymizedDatasets/\n"
     ]
    }
   ],
   "source": [
    "import numpy as np\n",
    "import pandas as pd\n",
    "import sys\n",
    "import seaborn as sns\n",
    "import os.path\n",
    "import time, itertools, re\n",
    "from collections import Counter\n",
    "import scipy as sc\n",
    "from sklearn.metrics import make_scorer, balanced_accuracy_score, confusion_matrix, root_mean_squared_error\n",
    "from sklearn.preprocessing import StandardScaler\n",
    "from sklearn.model_selection import GridSearchCV, RepeatedStratifiedKFold\n",
    "from sklearn.pipeline import make_pipeline, Pipeline\n",
    "import warnings\n",
    "warnings.filterwarnings('ignore')\n",
    "import matplotlib.pyplot as plt\n",
    "print(os.getcwd())\n",
    "fileloc_data='/'.join(os.getcwd().split('/')[0:5])+ '/data/annonymizedDatasets/'\n",
    "savetag='pred_lavSQ_MHC'\n",
    "print(fileloc_data)\n",
    "code_path='/'.join(os.getcwd().split('/')[0:4])+'/sklvq/'\n",
    "sys.path.append(code_path)\n",
    "from sklvq import GMLVQ, LGMLVQ\n",
    "from sklearn.ensemble import RandomForestClassifier\n",
    "from sklearn.naive_bayes import GaussianNB\n",
    "from sklearn.neighbors import KNeighborsClassifier\n",
    "from sklearn.discriminant_analysis import LinearDiscriminantAnalysis\n",
    "from sklearn.svm import SVC\n",
    "from HypOpt import GridSearchClassifiers, GridSearch_LVQ\n"
   ]
  },
  {
   "cell_type": "code",
   "execution_count": 2,
   "id": "3b5398c9-fda0-4605-8731-079266f80c1f",
   "metadata": {},
   "outputs": [],
   "source": [
    "colsLAV=['Lav-Neg_Waardering', 'Lav-Gebrek_Vertrouwdheid', 'Lav-Alg_Ontevredenheid']\n",
    "colsSQ48=['SQ48-Vijandigheid','SQ48-Agorafobie','SQ48-Angst','SQ48-Depressie', 'SQ48-Cognitieve_Klachten',\n",
    "          'SQ48-Somatische_Klachten', 'SQ48-Sociale_Fobie','SQ48-Vitaliteit_Optimisme', 'SQ48-Werk_Studie']\n",
    "colsMHCSF=['MHCSF-EmotionWB', 'MHCSF-SocialWB', 'MHCSF-PsychWB']\n",
    "cols2consider=['Main-Age','Main-ED_Codes', 'EDEQ-Score']+colsLAV+colsSQ48+colsMHCSF\n",
    "cols2train=['Main-Age']+colsLAV+colsSQ48+colsMHCSF\n",
    "colNames=['Main-Age', 'Main-ED_Codes', 'EDEQ-Score','Lav-Neg_Waardering','Lav-Gebrek_Vertrouwdheid', 'Lav-Alg_Ontevredenheid', \n",
    "'SQ48-Hostility','SQ48-Agorafobie','SQ48-Angst','SQ48-Depressie','SQ48-Cognitieve_Complain',\n",
    "'SQ48-Somatische_Complain', 'SQ48-Sociale_Fobie','SQ48-Vitaliteit_Optimisme','SQ48-Werk_Studie', \n",
    "'MHCSF-EmotionWB', 'MHCSF-SocialWB', 'MHCSF-PsychWB'] \n",
    "colRename_dict=dict(zip(cols2consider, colNames))\n",
    "df_adapted_combo=pd.read_csv(fileloc_data+'maskedDAIsy_MainED_Lav_SQ48_MHCSF_Visit1.tsv', sep='\\t', decimal=',')\n",
    "df_adapted_combo['EDtype'] = df_adapted_combo['EDtype'].astype('category')\n",
    "df_adapted_combo.astype(dict(zip(colsLAV, ['float', 'float','float']))).dtypes\n",
    "df_adapted_combo.astype(dict(zip(colsSQ48,['float', 'float','float','float', 'float','float','float', 'float','float']))).dtypes\n",
    "df_adapted_combo.astype(dict(zip(colsMHCSF, ['float', 'float','float']))).dtypes\n",
    "df_adapted_combo.rename(columns=colRename_dict, inplace=True)\n",
    "adapted_combo_cols=['Main-Age','Lav-Alg_Ontevredenheid', 'Lav-Gebrek_Vertrouwdheid','Lav-Neg_Waardering',\n",
    "    'SQ48-Hostility','SQ48-Agorafobie','SQ48-Angst','SQ48-Depressie','SQ48-Cognitieve_Complain',\n",
    "    'SQ48-Somatische_Complain', 'SQ48-Sociale_Fobie','SQ48-Vitaliteit_Optimisme','SQ48-Werk_Studie', 'MHCSF-EmotionWB', \n",
    "    'MHCSF-SocialWB', 'MHCSF-PsychWB']\n",
    "#df_adapted_combo['ED_Codes'] = df_adapted_combo['EDtype'].cat.codes"
   ]
  },
  {
   "cell_type": "markdown",
   "id": "3c9bfc2f-5bd2-4b04-b239-cb37d82b224f",
   "metadata": {},
   "source": [
    "# Classification"
   ]
  },
  {
   "cell_type": "code",
   "execution_count": 3,
   "id": "50bf1935-7195-42b8-afac-cef5c2a086c8",
   "metadata": {},
   "outputs": [],
   "source": [
    "df_train_adapted=df_adapted_combo[adapted_combo_cols].loc[df_adapted_combo['Split']=='Train']\n",
    "YTrain=df_adapted_combo['EDtype'].loc[df_adapted_combo['Split']=='Train']#.to_numpy()\n",
    "df_test_adapted=df_adapted_combo[adapted_combo_cols].loc[df_adapted_combo['Split']=='Test']\n",
    "YTest=df_adapted_combo['EDtype'].loc[df_adapted_combo['Split']=='Test']#.to_numpy()"
   ]
  },
  {
   "cell_type": "code",
   "execution_count": 4,
   "id": "d30bee1b-f46d-4d66-ad2e-baa53f6b77c0",
   "metadata": {},
   "outputs": [
    {
     "name": "stdout",
     "output_type": "stream",
     "text": [
      "RF: \n",
      "   n_Trees Max_Features       MAA\n",
      "3     500            5  0.661867\n",
      "5     250            7  0.659200\n",
      "2     300            5  0.658133\n",
      "7     500            7  0.657067\n",
      "KNN: \n",
      "    K Dist Metric       MAA\n",
      "3  3      cosine  0.568000\n",
      "0  3   minkowski  0.555200\n",
      "4  5      cosine  0.505067\n",
      "1  5   minkowski  0.492800\n",
      "LDA: \n",
      "   Solver     MAA\n",
      "0    svd  0.4864\n",
      "1   lsqr  0.4864\n",
      "2  eigen  0.4864\n",
      "Linear SVM: \n",
      "      C       MAA\n",
      "4   10  0.510400\n",
      "5  100  0.509867\n",
      "3    1  0.506133\n",
      "2  0.1  0.500267\n",
      "RBF SVM: \n",
      "       C Gamma       MAA\n",
      "27   10     1  0.655467\n",
      "33  100     1  0.655467\n",
      "32  100  0.01  0.643733\n",
      "21    1     1  0.634667\n"
     ]
    }
   ],
   "source": [
    "sampling_strategy='not majority'\n",
    "GridSearchClassifiers(df_train_adapted, YTrain,sampling_strategy)"
   ]
  },
  {
   "cell_type": "code",
   "execution_count": 5,
   "id": "a2b780f7-ed39-412e-8ce5-108af24aeee4",
   "metadata": {},
   "outputs": [
    {
     "name": "stdout",
     "output_type": "stream",
     "text": [
      "GMLVQ: \n",
      "        Prot per cls Solver Num Component Activation type       MAA\n",
      "46  [2, 2, 2, 2, 2]  lbfgs            15           swish  0.534400\n",
      "42  [2, 2, 2, 2, 2]  lbfgs            11           swish  0.508267\n",
      "38  [2, 2, 2, 2, 2]  lbfgs             7           swish  0.507733\n",
      "43  [2, 2, 2, 2, 2]   adam            11           swish  0.486933\n"
     ]
    }
   ],
   "source": [
    "GridSearch_LVQ(df_train_adapted, YTrain,sampling_strategy)"
   ]
  },
  {
   "cell_type": "code",
   "execution_count": 6,
   "id": "67ff5873-a83e-44d1-b5c2-f78efceb8328",
   "metadata": {},
   "outputs": [
    {
     "name": "stdout",
     "output_type": "stream",
     "text": [
      "RF: \n",
      "   n_Trees Max_Features       MAA\n",
      "9     250           11  0.708000\n",
      "7     500            7  0.702667\n",
      "1     250            5  0.702667\n",
      "6     300            7  0.700667\n",
      "KNN: \n",
      "    K Dist Metric       MAA\n",
      "0  3   minkowski  0.628667\n",
      "3  3      cosine  0.599333\n",
      "1  5   minkowski  0.560667\n",
      "4  5      cosine  0.536000\n",
      "LDA: \n",
      "   Solver       MAA\n",
      "0    svd  0.489333\n",
      "1   lsqr  0.489333\n",
      "2  eigen  0.489333\n",
      "Linear SVM: \n",
      "      C       MAA\n",
      "5  100  0.516000\n",
      "4   10  0.512000\n",
      "3    1  0.508000\n",
      "2  0.1  0.496667\n",
      "RBF SVM: \n",
      "       C Gamma       MAA\n",
      "27   10     1  0.728000\n",
      "33  100     1  0.728000\n",
      "21    1     1  0.702667\n",
      "32  100  0.01  0.690000\n",
      "GMLVQ: \n",
      "     Prot per cls Solver Num Component Activation type       MAA\n",
      "42  [2, 2, 2, 2]  lbfgs            11           swish  0.586000\n",
      "46  [2, 2, 2, 2]  lbfgs            15           swish  0.572000\n",
      "38  [2, 2, 2, 2]  lbfgs             7           swish  0.570000\n",
      "43  [2, 2, 2, 2]   adam            11           swish  0.565333\n"
     ]
    }
   ],
   "source": [
    "\n",
    "df_train_eds=df_adapted_combo[adapted_combo_cols].loc[(df_adapted_combo['Split']=='Train') & (df_adapted_combo['EDtype']!='Others')]\n",
    "YTrain_eds=df_adapted_combo['EDtype'].loc[(df_adapted_combo['Split']=='Train') & (df_adapted_combo['EDtype']!='Others')]#.to_numpy()\n",
    "df_test_eds=df_adapted_combo[adapted_combo_cols].loc[(df_adapted_combo['Split']=='Test') & (df_adapted_combo['EDtype']!='Others')]\n",
    "YTest_eds=df_adapted_combo['EDtype'].loc[(df_adapted_combo['Split']=='Test') & (df_adapted_combo['EDtype']!='Others')]#.to_numpy()\n",
    "GridSearchClassifiers(df_train_eds, YTrain_eds, sampling_strategy)\n",
    "GridSearch_LVQ(df_train_eds, YTrain_eds, sampling_strategy)"
   ]
  },
  {
   "cell_type": "markdown",
   "id": "a6cacbf5-7024-4818-bff1-aee724f39ce9",
   "metadata": {},
   "source": [
    "# Regression"
   ]
  },
  {
   "cell_type": "code",
   "execution_count": 4,
   "id": "79ff332b-3480-460f-acba-6f6f431d241c",
   "metadata": {
    "scrolled": true
   },
   "outputs": [
    {
     "name": "stdout",
     "output_type": "stream",
     "text": [
      "KNN: \n",
      "    K Dist Metric     Score  Abs_Score\n",
      "1  5   minkowski -0.228309   0.228309\n",
      "2  7   minkowski -0.231111   0.231111\n",
      "0  3   minkowski -0.236836   0.236836\n",
      "4  5      cosine -0.237039   0.237039\n",
      "RF: \n",
      "     n_Trees  Max_Features       Criterion     Score  Abs_Score\n",
      "2       300             5   squared_error -0.221379   0.221379\n",
      "18      300             5  absolute_error -0.223021   0.223021\n",
      "3       500             5   squared_error -0.223269   0.223269\n",
      "53      250             7         poisson -0.223446   0.223446\n",
      "Linear SVM: \n",
      "        C     Score  Abs_Score\n",
      "5  100.0 -0.227634   0.227634\n",
      "3    1.0 -0.227678   0.227678\n",
      "4   10.0 -0.227782   0.227782\n",
      "2    0.1 -0.228291   0.228291\n",
      "RBF SVM: \n",
      "         C   Gamma     Score  Abs_Score\n",
      "26   10.0  0.0100 -0.217149   0.217149\n",
      "31  100.0  0.0010 -0.218077   0.218077\n",
      "30  100.0  0.0001 -0.232769   0.232769\n",
      "25   10.0  0.0010 -0.233224   0.233224\n"
     ]
    }
   ],
   "source": [
    "from HypOptRegress import GridSearchRegressors\n",
    "df_train_adapted=df_adapted_combo[adapted_combo_cols].loc[df_adapted_combo['Split']=='Train']\n",
    "YTrain_reg=df_adapted_combo['EDEQ-Score'].loc[df_adapted_combo['Split']=='Train']#.to_numpy()\n",
    "df_test_adapted=df_adapted_combo[adapted_combo_cols].loc[df_adapted_combo['Split']=='Test']\n",
    "YTest_reg=df_adapted_combo['EDEQ-Score'].loc[df_adapted_combo['Split']=='Test']\n",
    "GridSearchRegressors(df_train_adapted, YTrain_reg.to_numpy())"
   ]
  },
  {
   "cell_type": "code",
   "execution_count": 5,
   "id": "51d30969-3ddc-4ab2-841f-e84997731c9b",
   "metadata": {},
   "outputs": [
    {
     "name": "stdout",
     "output_type": "stream",
     "text": [
      "KNN: \n",
      "    K Dist Metric     Score  Abs_Score\n",
      "1  5   minkowski -0.236168   0.236168\n",
      "2  7   minkowski -0.242994   0.242994\n",
      "4  5      cosine -0.253332   0.253332\n",
      "5  7      cosine -0.254870   0.254870\n",
      "RF: \n",
      "     n_Trees  Max_Features      Criterion     Score  Abs_Score\n",
      "32      100             5   friedman_mse -0.229198   0.229198\n",
      "42      300            11   friedman_mse -0.229444   0.229444\n",
      "55      500             7        poisson -0.230135   0.230135\n",
      "5       250             7  squared_error -0.230182   0.230182\n",
      "Linear SVM: \n",
      "        C     Score  Abs_Score\n",
      "2    0.1 -0.242192   0.242192\n",
      "3    1.0 -0.242339   0.242339\n",
      "4   10.0 -0.242790   0.242790\n",
      "5  100.0 -0.242909   0.242909\n",
      "RBF SVM: \n",
      "         C   Gamma     Score  Abs_Score\n",
      "26   10.0  0.0100 -0.226652   0.226652\n",
      "31  100.0  0.0010 -0.229631   0.229631\n",
      "30  100.0  0.0001 -0.244207   0.244207\n",
      "25   10.0  0.0010 -0.244355   0.244355\n"
     ]
    }
   ],
   "source": [
    "df_train_eds=df_adapted_combo[adapted_combo_cols].loc[(df_adapted_combo['Split']=='Train') & (df_adapted_combo['EDtype']!='Others')]\n",
    "YTrain_eds=df_adapted_combo['EDEQ-Score'].loc[(df_adapted_combo['Split']=='Train') & (df_adapted_combo['EDtype']!='Others')]#.to_numpy()\n",
    "df_test_eds=df_adapted_combo[adapted_combo_cols].loc[(df_adapted_combo['Split']=='Test') & (df_adapted_combo['EDtype']!='Others')]\n",
    "YTest_eds=df_adapted_combo['EDEQ-Score'].loc[(df_adapted_combo['Split']=='Test') & (df_adapted_combo['EDtype']!='Others')]#.to_numpy()\n",
    "\n",
    "GridSearchRegressors(df_train_eds, YTrain_eds.to_numpy())"
   ]
  },
  {
   "cell_type": "code",
   "execution_count": null,
   "id": "268e047d-0a54-45eb-b309-b15975aa7330",
   "metadata": {},
   "outputs": [],
   "source": []
  }
 ],
 "metadata": {
  "kernelspec": {
   "display_name": "Python 3 (ipykernel)",
   "language": "python",
   "name": "python3"
  },
  "language_info": {
   "codemirror_mode": {
    "name": "ipython",
    "version": 3
   },
   "file_extension": ".py",
   "mimetype": "text/x-python",
   "name": "python",
   "nbconvert_exporter": "python",
   "pygments_lexer": "ipython3",
   "version": "3.11.10"
  }
 },
 "nbformat": 4,
 "nbformat_minor": 5
}
